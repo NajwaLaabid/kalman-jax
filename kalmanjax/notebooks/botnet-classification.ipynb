{
 "cells": [
  {
   "cell_type": "markdown",
   "metadata": {},
   "source": [
    "# GP classification of botnet C&C communication\n",
    "\n",
    "## Import and load data"
   ]
  },
  {
   "cell_type": "code",
   "execution_count": 3,
   "metadata": {},
   "outputs": [
    {
     "ename": "ModuleNotFoundError",
     "evalue": "No module named 'jaxlib'",
     "output_type": "error",
     "traceback": [
      "\u001b[0;31m---------------------------------------------------------------------------\u001b[0m",
      "\u001b[0;31mModuleNotFoundError\u001b[0m                       Traceback (most recent call last)",
      "\u001b[0;32m<ipython-input-3-d123e40ac2f9>\u001b[0m in \u001b[0;36m<module>\u001b[0;34m\u001b[0m\n\u001b[1;32m      2\u001b[0m \u001b[0msys\u001b[0m\u001b[0;34m.\u001b[0m\u001b[0mpath\u001b[0m\u001b[0;34m.\u001b[0m\u001b[0minsert\u001b[0m\u001b[0;34m(\u001b[0m\u001b[0;36m0\u001b[0m\u001b[0;34m,\u001b[0m \u001b[0;34m'../'\u001b[0m\u001b[0;34m)\u001b[0m\u001b[0;34m\u001b[0m\u001b[0;34m\u001b[0m\u001b[0m\n\u001b[1;32m      3\u001b[0m \u001b[0;32mimport\u001b[0m \u001b[0mnumpy\u001b[0m \u001b[0;32mas\u001b[0m \u001b[0mnp\u001b[0m\u001b[0;34m\u001b[0m\u001b[0;34m\u001b[0m\u001b[0m\n\u001b[0;32m----> 4\u001b[0;31m \u001b[0;32mfrom\u001b[0m \u001b[0mjax\u001b[0m\u001b[0;34m.\u001b[0m\u001b[0mexperimental\u001b[0m \u001b[0;32mimport\u001b[0m \u001b[0moptimizers\u001b[0m\u001b[0;34m\u001b[0m\u001b[0;34m\u001b[0m\u001b[0m\n\u001b[0m\u001b[1;32m      5\u001b[0m \u001b[0;32mimport\u001b[0m \u001b[0mmatplotlib\u001b[0m\u001b[0;34m.\u001b[0m\u001b[0mpyplot\u001b[0m \u001b[0;32mas\u001b[0m \u001b[0mplt\u001b[0m\u001b[0;34m\u001b[0m\u001b[0;34m\u001b[0m\u001b[0m\n\u001b[1;32m      6\u001b[0m \u001b[0;32mfrom\u001b[0m \u001b[0mmatplotlib\u001b[0m\u001b[0;34m.\u001b[0m\u001b[0mcolors\u001b[0m \u001b[0;32mimport\u001b[0m \u001b[0mhsv_to_rgb\u001b[0m\u001b[0;34m,\u001b[0m \u001b[0mrgb_to_hsv\u001b[0m\u001b[0;34m,\u001b[0m \u001b[0mListedColormap\u001b[0m\u001b[0;34m\u001b[0m\u001b[0;34m\u001b[0m\u001b[0m\n",
      "\u001b[0;32m~/miniconda3/lib/python3.7/site-packages/jax/__init__.py\u001b[0m in \u001b[0;36m<module>\u001b[0;34m\u001b[0m\n\u001b[1;32m     20\u001b[0m \u001b[0;31m# flake8: noqa: F401\u001b[0m\u001b[0;34m\u001b[0m\u001b[0;34m\u001b[0m\u001b[0;34m\u001b[0m\u001b[0m\n\u001b[1;32m     21\u001b[0m \u001b[0;32mfrom\u001b[0m \u001b[0;34m.\u001b[0m\u001b[0mconfig\u001b[0m \u001b[0;32mimport\u001b[0m \u001b[0mconfig\u001b[0m\u001b[0;34m\u001b[0m\u001b[0;34m\u001b[0m\u001b[0m\n\u001b[0;32m---> 22\u001b[0;31m from .api import (\n\u001b[0m\u001b[1;32m     23\u001b[0m   \u001b[0mad\u001b[0m\u001b[0;34m,\u001b[0m  \u001b[0;31m# TODO(phawkins): update users to avoid this.\u001b[0m\u001b[0;34m\u001b[0m\u001b[0;34m\u001b[0m\u001b[0m\n\u001b[1;32m     24\u001b[0m   \u001b[0margnums_partial\u001b[0m\u001b[0;34m,\u001b[0m  \u001b[0;31m# TODO(phawkins): update Haiku to not use this.\u001b[0m\u001b[0;34m\u001b[0m\u001b[0;34m\u001b[0m\u001b[0m\n",
      "\u001b[0;32m~/miniconda3/lib/python3.7/site-packages/jax/api.py\u001b[0m in \u001b[0;36m<module>\u001b[0;34m\u001b[0m\n\u001b[1;32m     37\u001b[0m \u001b[0;32mfrom\u001b[0m \u001b[0mcontextlib\u001b[0m \u001b[0;32mimport\u001b[0m \u001b[0mcontextmanager\u001b[0m\u001b[0;34m,\u001b[0m \u001b[0mExitStack\u001b[0m\u001b[0;34m\u001b[0m\u001b[0;34m\u001b[0m\u001b[0m\n\u001b[1;32m     38\u001b[0m \u001b[0;34m\u001b[0m\u001b[0m\n\u001b[0;32m---> 39\u001b[0;31m \u001b[0;32mfrom\u001b[0m \u001b[0;34m.\u001b[0m \u001b[0;32mimport\u001b[0m \u001b[0mcore\u001b[0m\u001b[0;34m\u001b[0m\u001b[0;34m\u001b[0m\u001b[0m\n\u001b[0m\u001b[1;32m     40\u001b[0m \u001b[0;32mfrom\u001b[0m \u001b[0;34m.\u001b[0m \u001b[0;32mimport\u001b[0m \u001b[0mlib\u001b[0m\u001b[0;34m\u001b[0m\u001b[0;34m\u001b[0m\u001b[0m\n\u001b[1;32m     41\u001b[0m \u001b[0;32mfrom\u001b[0m \u001b[0;34m.\u001b[0m \u001b[0;32mimport\u001b[0m \u001b[0mlinear_util\u001b[0m \u001b[0;32mas\u001b[0m \u001b[0mlu\u001b[0m\u001b[0;34m\u001b[0m\u001b[0;34m\u001b[0m\u001b[0m\n",
      "\u001b[0;32m~/miniconda3/lib/python3.7/site-packages/jax/core.py\u001b[0m in \u001b[0;36m<module>\u001b[0;34m\u001b[0m\n\u001b[1;32m     29\u001b[0m \u001b[0;32mimport\u001b[0m \u001b[0mnumpy\u001b[0m \u001b[0;32mas\u001b[0m \u001b[0mnp\u001b[0m\u001b[0;34m\u001b[0m\u001b[0;34m\u001b[0m\u001b[0m\n\u001b[1;32m     30\u001b[0m \u001b[0;34m\u001b[0m\u001b[0m\n\u001b[0;32m---> 31\u001b[0;31m \u001b[0;32mfrom\u001b[0m \u001b[0;34m.\u001b[0m \u001b[0;32mimport\u001b[0m \u001b[0mdtypes\u001b[0m\u001b[0;34m\u001b[0m\u001b[0;34m\u001b[0m\u001b[0m\n\u001b[0m\u001b[1;32m     32\u001b[0m \u001b[0;32mfrom\u001b[0m \u001b[0;34m.\u001b[0m\u001b[0mconfig\u001b[0m \u001b[0;32mimport\u001b[0m \u001b[0mFLAGS\u001b[0m\u001b[0;34m,\u001b[0m \u001b[0mconfig\u001b[0m\u001b[0;34m\u001b[0m\u001b[0;34m\u001b[0m\u001b[0m\n\u001b[1;32m     33\u001b[0m \u001b[0;32mfrom\u001b[0m \u001b[0;34m.\u001b[0m \u001b[0;32mimport\u001b[0m \u001b[0mlinear_util\u001b[0m \u001b[0;32mas\u001b[0m \u001b[0mlu\u001b[0m\u001b[0;34m\u001b[0m\u001b[0;34m\u001b[0m\u001b[0m\n",
      "\u001b[0;32m~/miniconda3/lib/python3.7/site-packages/jax/dtypes.py\u001b[0m in \u001b[0;36m<module>\u001b[0;34m\u001b[0m\n\u001b[1;32m     30\u001b[0m \u001b[0;32mfrom\u001b[0m \u001b[0;34m.\u001b[0m\u001b[0m_src\u001b[0m \u001b[0;32mimport\u001b[0m \u001b[0mutil\u001b[0m\u001b[0;34m\u001b[0m\u001b[0;34m\u001b[0m\u001b[0m\n\u001b[1;32m     31\u001b[0m \u001b[0;32mfrom\u001b[0m \u001b[0;34m.\u001b[0m\u001b[0mconfig\u001b[0m \u001b[0;32mimport\u001b[0m \u001b[0mflags\u001b[0m\u001b[0;34m\u001b[0m\u001b[0;34m\u001b[0m\u001b[0m\n\u001b[0;32m---> 32\u001b[0;31m \u001b[0;32mfrom\u001b[0m \u001b[0;34m.\u001b[0m\u001b[0mlib\u001b[0m \u001b[0;32mimport\u001b[0m \u001b[0mxla_client\u001b[0m\u001b[0;34m\u001b[0m\u001b[0;34m\u001b[0m\u001b[0m\n\u001b[0m\u001b[1;32m     33\u001b[0m \u001b[0;34m\u001b[0m\u001b[0m\n\u001b[1;32m     34\u001b[0m \u001b[0;32mfrom\u001b[0m \u001b[0;34m.\u001b[0m\u001b[0m_src\u001b[0m \u001b[0;32mimport\u001b[0m \u001b[0mtraceback_util\u001b[0m\u001b[0;34m\u001b[0m\u001b[0;34m\u001b[0m\u001b[0m\n",
      "\u001b[0;32m~/miniconda3/lib/python3.7/site-packages/jax/lib/__init__.py\u001b[0m in \u001b[0;36m<module>\u001b[0;34m\u001b[0m\n\u001b[1;32m     21\u001b[0m ]\n\u001b[1;32m     22\u001b[0m \u001b[0;34m\u001b[0m\u001b[0m\n\u001b[0;32m---> 23\u001b[0;31m \u001b[0;32mimport\u001b[0m \u001b[0mjaxlib\u001b[0m\u001b[0;34m\u001b[0m\u001b[0;34m\u001b[0m\u001b[0m\n\u001b[0m\u001b[1;32m     24\u001b[0m \u001b[0;34m\u001b[0m\u001b[0m\n\u001b[1;32m     25\u001b[0m \u001b[0;31m# Must be kept in sync with the jaxlib version in build/test-requirements.txt\u001b[0m\u001b[0;34m\u001b[0m\u001b[0;34m\u001b[0m\u001b[0;34m\u001b[0m\u001b[0m\n",
      "\u001b[0;31mModuleNotFoundError\u001b[0m: No module named 'jaxlib'"
     ]
    }
   ],
   "source": [
    "import sys\n",
    "sys.path.insert(0, '../')\n",
    "import numpy as np\n",
    "from jax.experimental import optimizers\n",
    "import matplotlib.pyplot as plt\n",
    "from matplotlib.colors import hsv_to_rgb, rgb_to_hsv, ListedColormap\n",
    "import matplotlib as mpl\n",
    "from scipy.interpolate import interp1d\n",
    "import time\n",
    "from sde_gp import SDEGP\n",
    "import approximate_inference as approx_inf\n",
    "import priors\n",
    "import likelihoods\n",
    "from utils import softplus_list, plot_2d_classification\n",
    "\n",
    "mpl.rcParams['figure.figsize'] = (7, 7)"
   ]
  },
  {
   "cell_type": "code",
   "execution_count": 2,
   "metadata": {},
   "outputs": [],
   "source": [
    "import pandas as pd \n",
    "\n",
    "def get_ctu13(path):\n",
    "\n",
    "    columns = [\"start_time\", \"duration\", \"protocol\",  \"src_ip\", \n",
    "               \"src_port\", \"direction\", \"dst_ip\", \"dst_port\", \"state\",\n",
    "               \"src_tos\", \"dst_tos\", \"total_packets\", \"total_bytes\", \"src_bytes\", \"label\"]\n",
    "    \n",
    "    df = pd.read_csv(path, parse_dates=[\"start_time\"], names=columns, skiprows=1)\n",
    "    \n",
    "    df = df.dropna(axis=0) # ports, tos, and states are sometimes unidentified => drop rows with missing values for these columns\n",
    "\n",
    "    df.loc[df['label'].str.contains('Botnet'), 'label'] = 1 # malicious\n",
    "    df.loc[df['label']!=1, 'label'] = 0 # benign\n",
    "\n",
    "    return df"
   ]
  },
  {
   "cell_type": "code",
   "execution_count": 3,
   "metadata": {},
   "outputs": [],
   "source": [
    "ctu13 = get_ctu13('../../data/capture20110810.binetflow')"
   ]
  },
  {
   "cell_type": "code",
   "execution_count": 4,
   "metadata": {},
   "outputs": [
    {
     "data": {
      "text/plain": [
       "count    2.619340e+06\n",
       "mean     2.032101e+04\n",
       "std      3.329857e+06\n",
       "min      6.000000e+01\n",
       "25%      2.140000e+02\n",
       "50%      2.680000e+02\n",
       "75%      6.120000e+02\n",
       "max      2.689640e+09\n",
       "Name: total_bytes, dtype: float64"
      ]
     },
     "execution_count": 4,
     "metadata": {},
     "output_type": "execute_result"
    }
   ],
   "source": [
    "ctu13['total_bytes'].describe()"
   ]
  },
  {
   "cell_type": "code",
   "execution_count": 5,
   "metadata": {},
   "outputs": [],
   "source": [
    "cond = (ctu13['total_bytes']>100) &\\\n",
    "        (ctu13['total_bytes']<1000)\n",
    "botnet = ctu13[cond & (ctu13['label']==1)].sample(100)\n",
    "normal = ctu13[cond & (ctu13['label']==0)].sample(100)\n",
    "sampled = pd.concat([botnet, normal])"
   ]
  },
  {
   "cell_type": "code",
   "execution_count": 6,
   "metadata": {},
   "outputs": [
    {
     "data": {
      "image/png": "[encoded data removed]",
      "text/plain": [
       "<Figure size 504x504 with 1 Axes>"
      ]
     },
     "metadata": {
      "needs_background": "light"
     },
     "output_type": "display_data"
    }
   ],
   "source": [
    "y_feature = 'label'\n",
    "x_feature = 'total_bytes'\n",
    "\n",
    "test_botnet = botnet.sample(10)\n",
    "test_normal = normal.sample(10)\n",
    "test_data = pd.concat([test_botnet, test_normal]).sample(frac=1.)\n",
    "\n",
    "test_idx = sampled.index.isin(test_data.index)\n",
    "train_data = sampled[~test_idx]\n",
    "\n",
    "#plt.xlim(datetime.datetime(2011,8,10,11,0,0), datetime.datetime(2011,8,10,12,0,0));\n",
    "plt.xlim(100, 1000);\n",
    "plt.xscale('symlog')\n",
    "plt.plot(test_data[x_feature], test_data[y_feature], 'b+', label='test observations');\n",
    "plt.plot(train_data[x_feature], train_data[y_feature], 'r+',  alpha=0.4, label='train observations');\n",
    "plt.legend();"
   ]
  },
  {
   "cell_type": "code",
   "execution_count": 7,
   "metadata": {},
   "outputs": [
    {
     "data": {
      "text/plain": [
       "(20, 15)"
      ]
     },
     "execution_count": 7,
     "metadata": {},
     "output_type": "execute_result"
    }
   ],
   "source": [
    "test_data.shape"
   ]
  },
  {
   "cell_type": "code",
   "execution_count": 8,
   "metadata": {
    "scrolled": false
   },
   "outputs": [
    {
     "data": {
      "text/plain": [
       "(180, 15)"
      ]
     },
     "execution_count": 8,
     "metadata": {},
     "output_type": "execute_result"
    }
   ],
   "source": [
    "train_data.shape"
   ]
  },
  {
   "cell_type": "code",
   "execution_count": 20,
   "metadata": {},
   "outputs": [],
   "source": [
    "from sklearn.preprocessing import MinMaxScaler\n",
    "\n",
    "scaler = MinMaxScaler()\n",
    "x = scaler.fit_transform(train_data['total_bytes'].astype('float').to_numpy().reshape(-1,1))\n",
    "y = train_data['label'].astype('int').to_numpy()\n",
    "\n",
    "x_test = scaler.transform(test_data['total_bytes'].astype('float').to_numpy().reshape(-1,1))\n",
    "y_test = test_data['label'].astype('int').to_numpy()"
   ]
  },
  {
   "cell_type": "code",
   "execution_count": 21,
   "metadata": {},
   "outputs": [
    {
     "data": {
      "text/plain": [
       "array([[0.01187648],\n",
       "       [0.50712589],\n",
       "       [0.10213777],\n",
       "       [0.56769596],\n",
       "       [0.09501188],\n",
       "       [0.10213777],\n",
       "       [0.28266033],\n",
       "       [0.11163895],\n",
       "       [0.26247031],\n",
       "       [0.13539192],\n",
       "       [0.73159145],\n",
       "       [0.14370546],\n",
       "       [0.00712589],\n",
       "       [0.54869359],\n",
       "       [0.09026128],\n",
       "       [0.14726841],\n",
       "       [0.10688836],\n",
       "       [0.17339667],\n",
       "       [0.10451306],\n",
       "       [0.02256532]])"
      ]
     },
     "execution_count": 21,
     "metadata": {},
     "output_type": "execute_result"
    }
   ],
   "source": [
    "x_test"
   ]
  },
  {
   "cell_type": "markdown",
   "metadata": {},
   "source": [
    "## Build the GP model"
   ]
  },
  {
   "cell_type": "code",
   "execution_count": 22,
   "metadata": {},
   "outputs": [
    {
     "name": "stdout",
     "output_type": "stream",
     "text": [
      "building SDE-GP with Matern-5/2 prior and Bernoulli likelihood ...\n",
      "inference method is Expectation Propagation (EP)\n"
     ]
    }
   ],
   "source": [
    "var_f = 1.  # GP variance\n",
    "len_f = 5.0  # GP lengthscale\n",
    "\n",
    "prior = priors.Matern52(variance=var_f, lengthscale=len_f)\n",
    "\n",
    "lik = likelihoods.Bernoulli(link='logit')\n",
    "inf_method = approx_inf.ExpectationPropagation(power=0.9, intmethod='UT')\n",
    "\n",
    "model = SDEGP(prior=prior, likelihood=lik, t=x, y=y, approx_inf=inf_method)"
   ]
  },
  {
   "cell_type": "markdown",
   "metadata": {},
   "source": [
    "## Set up the optimiser"
   ]
  },
  {
   "cell_type": "code",
   "execution_count": 23,
   "metadata": {},
   "outputs": [],
   "source": [
    "opt_init, opt_update, get_params = optimizers.adam(step_size=2e-1)\n",
    "# parameters should be a 2-element list [param_prior, param_likelihood]\n",
    "opt_state = opt_init([model.prior.hyp, model.likelihood.hyp])\n",
    "\n",
    "plot_intermediate = False\n",
    "def gradient_step(i, state, mod):\n",
    "    params = get_params(state)\n",
    "    mod.prior.hyp = params[0]\n",
    "    mod.likelihood.hyp = params[1]\n",
    "\n",
    "    # grad(Filter) + Smoother:\n",
    "    neg_log_marg_lik, gradients = mod.run()\n",
    "    # neg_log_marg_lik, gradients = mod.run_two_stage()  # <-- less elegant but reduces compile time\n",
    "\n",
    "    prior_params = softplus_list(params[0])\n",
    "    if (i % 10) == 0:\n",
    "        print('iter %2d: var_f=%1.2f len_f=%1.2f, nlml=%2.2f' %\n",
    "              (i, prior_params[0], prior_params[1], neg_log_marg_lik))\n",
    "\n",
    "    if plot_intermediate:\n",
    "        plot(mod, i)\n",
    "\n",
    "    return opt_update(i, gradients, state)"
   ]
  },
  {
   "cell_type": "markdown",
   "metadata": {},
   "source": [
    "## Optimise the hyperparameters and site parameters"
   ]
  },
  {
   "cell_type": "code",
   "execution_count": 24,
   "metadata": {},
   "outputs": [
    {
     "name": "stdout",
     "output_type": "stream",
     "text": [
      "optimising the hyperparameters ...\n",
      "iter  0: var_f=1.00 len_f=5.00, nlml=126.20\n",
      "iter 10: var_f=1.88 len_f=3.01, nlml=126.12\n",
      "iter 20: var_f=3.63 len_f=1.36, nlml=125.93\n",
      "iter 30: var_f=4.19 len_f=2.01, nlml=125.86\n",
      "iter 40: var_f=4.94 len_f=2.29, nlml=125.84\n",
      "iter 50: var_f=5.92 len_f=2.11, nlml=125.84\n",
      "iter 60: var_f=6.57 len_f=2.35, nlml=125.83\n",
      "iter 70: var_f=7.19 len_f=2.50, nlml=125.82\n",
      "iter 80: var_f=7.84 len_f=2.51, nlml=125.82\n",
      "iter 90: var_f=8.41 len_f=2.62, nlml=125.81\n",
      "iter 100: var_f=8.94 len_f=2.71, nlml=125.81\n",
      "iter 110: var_f=9.47 len_f=2.76, nlml=125.81\n",
      "iter 120: var_f=9.97 len_f=2.83, nlml=125.81\n",
      "iter 130: var_f=10.45 len_f=2.90, nlml=125.80\n",
      "iter 140: var_f=10.92 len_f=2.95, nlml=125.80\n",
      "iter 150: var_f=11.37 len_f=3.01, nlml=125.80\n",
      "iter 160: var_f=11.80 len_f=3.06, nlml=125.80\n",
      "iter 170: var_f=12.23 len_f=3.11, nlml=125.80\n",
      "iter 180: var_f=12.64 len_f=3.16, nlml=125.80\n",
      "iter 190: var_f=13.04 len_f=3.21, nlml=125.79\n",
      "optimisation time: 14.13 secs\n"
     ]
    }
   ],
   "source": [
    "print('optimising the hyperparameters ...')\n",
    "t0 = time.time()\n",
    "for j in range(200):\n",
    "    opt_state = gradient_step(j, opt_state, model)\n",
    "t1 = time.time()\n",
    "print('optimisation time: %2.2f secs' % (t1-t0))"
   ]
  },
  {
   "cell_type": "markdown",
   "metadata": {},
   "source": [
    "## Make predictions"
   ]
  },
  {
   "cell_type": "code",
   "execution_count": 25,
   "metadata": {},
   "outputs": [
    {
     "name": "stdout",
     "output_type": "stream",
     "text": [
      "calculating the posterior predictive distribution ...\n",
      "prediction time: 2.78 secs\n",
      "test NLPD: 0.66\n"
     ]
    }
   ],
   "source": [
    "x_plot = np.linspace(np.min(x)-10.0, np.max(x)+10.0, num=500)\n",
    "print('calculating the posterior predictive distribution ...')\n",
    "t0 = time.time()\n",
    "nlpd = model.negative_log_predictive_density(t=x_test, y=y_test)\n",
    "posterior_mean, posterior_cov = model.predict(t=x_plot)\n",
    "t1 = time.time()\n",
    "print('prediction time: %2.2f secs' % (t1-t0))\n",
    "print('test NLPD: %1.2f' % nlpd)"
   ]
  },
  {
   "cell_type": "markdown",
   "metadata": {},
   "source": [
    "## Sample from the posterior distribution"
   ]
  },
  {
   "cell_type": "code",
   "execution_count": 26,
   "metadata": {},
   "outputs": [
    {
     "name": "stdout",
     "output_type": "stream",
     "text": [
      "sampling from the posterior ...\n",
      "sampling time: 4.00 secs\n"
     ]
    }
   ],
   "source": [
    "print('sampling from the posterior ...')\n",
    "t0 = time.time()\n",
    "posterior_samp = model.posterior_sample(20, t=x_plot)\n",
    "t1 = time.time()\n",
    "print('sampling time: %2.2f secs' % (t1-t0))"
   ]
  },
  {
   "cell_type": "markdown",
   "metadata": {},
   "source": [
    "## Plot posterior mean using colour map"
   ]
  },
  {
   "cell_type": "code",
   "execution_count": 27,
   "metadata": {},
   "outputs": [
    {
     "name": "stdout",
     "output_type": "stream",
     "text": [
      "plotting ...\n"
     ]
    },
    {
     "data": {
      "image/png": "[encoded data removed]",
      "text/plain": [
       "<Figure size 864x360 with 1 Axes>"
      ]
     },
     "metadata": {
      "needs_background": "light"
     },
     "output_type": "display_data"
    }
   ],
   "source": [
    "lb = posterior_mean - 1.96 * posterior_cov ** 0.5\n",
    "ub = posterior_mean + 1.96 * posterior_cov ** 0.5\n",
    "link_fn = model.likelihood.link_fn\n",
    "\n",
    "print('plotting ...')\n",
    "plt.figure(2, figsize=(12, 5))\n",
    "plt.clf()\n",
    "plt.plot(x, y, 'b+', label='training observations')\n",
    "plt.plot(x_test, y_test, 'r+', alpha=0.4, label='test observations')\n",
    "plt.plot(x_plot, link_fn(posterior_mean), 'm', label='posterior mean')\n",
    "plt.fill_between(x_plot, link_fn(lb), link_fn(ub), color='m', alpha=0.05, label='95% confidence')\n",
    "plt.plot(x_plot, link_fn(posterior_samp), 'm', alpha=0.15)\n",
    "plt.xlim(x_plot[0], x_plot[-1])\n",
    "plt.legend()\n",
    "plt.title('GP classification via Kalman smoothing. Test NLPD: %1.2f' % nlpd)\n",
    "plt.xlabel('time - $t$');"
   ]
  },
  {
   "cell_type": "code",
   "execution_count": null,
   "metadata": {},
   "outputs": [],
   "source": []
  }
 ],
 "metadata": {
  "kernelspec": {
   "display_name": "Python 3",
   "language": "python",
   "name": "python3"
  },
  "language_info": {
   "codemirror_mode": {
    "name": "ipython",
    "version": 3
   },
   "file_extension": ".py",
   "mimetype": "text/x-python",
   "name": "python",
   "nbconvert_exporter": "python",
   "pygments_lexer": "ipython3",
   "version": "3.7.6"
  },
  "varInspector": {
   "cols": {
    "lenName": 16,
    "lenType": 16,
    "lenVar": 40
   },
   "kernels_config": {
    "python": {
     "delete_cmd_postfix": "",
     "delete_cmd_prefix": "del ",
     "library": "var_list.py",
     "varRefreshCmd": "print(var_dic_list())"
    },
    "r": {
     "delete_cmd_postfix": ") ",
     "delete_cmd_prefix": "rm(",
     "library": "var_list.r",
     "varRefreshCmd": "cat(var_dic_list()) "
    }
   },
   "types_to_exclude": [
    "module",
    "function",
    "builtin_function_or_method",
    "instance",
    "_Feature"
   ],
   "window_display": false
  }
 },
 "nbformat": 4,
 "nbformat_minor": 4
}
